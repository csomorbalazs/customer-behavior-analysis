{
  "nbformat": 4,
  "nbformat_minor": 0,
  "metadata": {
    "colab": {
      "name": "ecommerce_data_preprocess.ipynb",
      "provenance": [],
      "collapsed_sections": []
    },
    "kernelspec": {
      "name": "python3",
      "display_name": "Python 3"
    }
  },
  "cells": [
    {
      "cell_type": "markdown",
      "metadata": {
        "id": "GJQPUlZDeK_z"
      },
      "source": [
        "## Evaluate behavior in eCommerce environments based on customer interactions\n",
        "\n",
        "The aim of this work is to investigate customer habits based on metrics derived from the interaction characteristics of individual users. This approach will enable eCommerce stores to predict a user's expected monetary value and optimize their customer segmentation strategy.\n",
        "\n",
        "This notebook presents an exploratory data analysis of a dataset consisting of a webshop's traffic. Based on that we engineered compound features more descriptive than the raw data."
      ]
    },
    {
      "cell_type": "markdown",
      "metadata": {
        "id": "LOaz3ltcooqx"
      },
      "source": [
        "### The dataset\n",
        "\n",
        "The dataset used in our work contains user behavior events from a large online store. One row consists of 9 different features describing the event. To illustrate the sheer amount of data, there were over 42 million events captured in just one month, in October of 2019.\n",
        "\n",
        "Further description of the dataset and download: \n",
        "https://www.kaggle.com/mkechinov/ecommerce-behavior-data-from-multi-category-store"
      ]
    },
    {
      "cell_type": "code",
      "metadata": {
        "id": "fj1VtPed7IMT",
        "outputId": "8e506ff8-f36a-4fba-b11b-a533a7a3eb74",
        "colab": {
          "base_uri": "https://localhost:8080/",
          "height": 34
        }
      },
      "source": [
        "!mkdir /root/.kaggle"
      ],
      "execution_count": 1,
      "outputs": [
        {
          "output_type": "stream",
          "text": [
            "mkdir: cannot create directory ‘/root/.kaggle’: File exists\n"
          ],
          "name": "stdout"
        }
      ]
    },
    {
      "cell_type": "code",
      "metadata": {
        "id": "52elVx2cVKL3",
        "outputId": "c9a55efd-0c92-42c5-b18e-a162821d06f8",
        "colab": {
          "base_uri": "https://localhost:8080/",
          "height": 34
        }
      },
      "source": [
        "%%writefile /root/.kaggle/kaggle.json\n",
        "\n",
        "{\"username\":\"KAGGLE_USER\",\"key\":\"KAGGLE_KEY\"}"
      ],
      "execution_count": 2,
      "outputs": [
        {
          "output_type": "stream",
          "text": [
            "Overwriting /root/.kaggle/kaggle.json\n"
          ],
          "name": "stdout"
        }
      ]
    },
    {
      "cell_type": "code",
      "metadata": {
        "id": "HEF5jHWGVKYw",
        "outputId": "09ed388c-a0fa-412a-efa6-07d9035d6e85",
        "colab": {
          "base_uri": "https://localhost:8080/",
          "height": 134
        }
      },
      "source": [
        "!kaggle datasets download -d mkechinov/ecommerce-behavior-data-from-multi-category-store --force\n",
        "!unzip /content/ecommerce-behavior-data-from-multi-category-store.zip"
      ],
      "execution_count": 3,
      "outputs": [
        {
          "output_type": "stream",
          "text": [
            "Warning: Your Kaggle API key is readable by other users on this system! To fix this, you can run 'chmod 600 /root/.kaggle/kaggle.json'\n",
            "Downloading ecommerce-behavior-data-from-multi-category-store.zip to /content\n",
            "100% 4.29G/4.29G [00:56<00:00, 59.7MB/s]\n",
            "100% 4.29G/4.29G [00:56<00:00, 81.2MB/s]\n",
            "Archive:  /content/ecommerce-behavior-data-from-multi-category-store.zip\n",
            "replace 2019-Nov.csv? [y]es, [n]o, [A]ll, [N]one, [r]ename: n\n",
            "replace 2019-Oct.csv? [y]es, [n]o, [A]ll, [N]one, [r]ename: n\n"
          ],
          "name": "stdout"
        }
      ]
    },
    {
      "cell_type": "code",
      "metadata": {
        "id": "XuHuBhKVVKgH"
      },
      "source": [
        "import pandas as pd"
      ],
      "execution_count": 4,
      "outputs": []
    },
    {
      "cell_type": "code",
      "metadata": {
        "id": "3ukzMk9bVKjW"
      },
      "source": [
        "categorical_dtypes = {\n",
        "    'event_type':'category', 'product_id':'category',\n",
        "    'category_id':'category',\n",
        "       'category_code':'category', 'brand':'category', \n",
        "    'user_id':'category', 'user_session':'category'\n",
        "}\n",
        "\n",
        "df = pd.read_csv('/content/2019-Oct.csv', dtype=categorical_dtypes)"
      ],
      "execution_count": 5,
      "outputs": []
    },
    {
      "cell_type": "code",
      "metadata": {
        "id": "T8C6OKzzf6hW",
        "outputId": "032572a9-00b0-407e-e146-14d162033f05",
        "colab": {
          "base_uri": "https://localhost:8080/",
          "height": 363
        }
      },
      "source": [
        "df.head()"
      ],
      "execution_count": 6,
      "outputs": [
        {
          "output_type": "execute_result",
          "data": {
            "text/html": [
              "<div>\n",
              "<style scoped>\n",
              "    .dataframe tbody tr th:only-of-type {\n",
              "        vertical-align: middle;\n",
              "    }\n",
              "\n",
              "    .dataframe tbody tr th {\n",
              "        vertical-align: top;\n",
              "    }\n",
              "\n",
              "    .dataframe thead th {\n",
              "        text-align: right;\n",
              "    }\n",
              "</style>\n",
              "<table border=\"1\" class=\"dataframe\">\n",
              "  <thead>\n",
              "    <tr style=\"text-align: right;\">\n",
              "      <th></th>\n",
              "      <th>event_time</th>\n",
              "      <th>event_type</th>\n",
              "      <th>product_id</th>\n",
              "      <th>category_id</th>\n",
              "      <th>category_code</th>\n",
              "      <th>brand</th>\n",
              "      <th>price</th>\n",
              "      <th>user_id</th>\n",
              "      <th>user_session</th>\n",
              "    </tr>\n",
              "  </thead>\n",
              "  <tbody>\n",
              "    <tr>\n",
              "      <th>0</th>\n",
              "      <td>2019-10-01 00:00:00 UTC</td>\n",
              "      <td>view</td>\n",
              "      <td>44600062</td>\n",
              "      <td>2103807459595387724</td>\n",
              "      <td>NaN</td>\n",
              "      <td>shiseido</td>\n",
              "      <td>35.79</td>\n",
              "      <td>541312140</td>\n",
              "      <td>72d76fde-8bb3-4e00-8c23-a032dfed738c</td>\n",
              "    </tr>\n",
              "    <tr>\n",
              "      <th>1</th>\n",
              "      <td>2019-10-01 00:00:00 UTC</td>\n",
              "      <td>view</td>\n",
              "      <td>3900821</td>\n",
              "      <td>2053013552326770905</td>\n",
              "      <td>appliances.environment.water_heater</td>\n",
              "      <td>aqua</td>\n",
              "      <td>33.20</td>\n",
              "      <td>554748717</td>\n",
              "      <td>9333dfbd-b87a-4708-9857-6336556b0fcc</td>\n",
              "    </tr>\n",
              "    <tr>\n",
              "      <th>2</th>\n",
              "      <td>2019-10-01 00:00:01 UTC</td>\n",
              "      <td>view</td>\n",
              "      <td>17200506</td>\n",
              "      <td>2053013559792632471</td>\n",
              "      <td>furniture.living_room.sofa</td>\n",
              "      <td>NaN</td>\n",
              "      <td>543.10</td>\n",
              "      <td>519107250</td>\n",
              "      <td>566511c2-e2e3-422b-b695-cf8e6e792ca8</td>\n",
              "    </tr>\n",
              "    <tr>\n",
              "      <th>3</th>\n",
              "      <td>2019-10-01 00:00:01 UTC</td>\n",
              "      <td>view</td>\n",
              "      <td>1307067</td>\n",
              "      <td>2053013558920217191</td>\n",
              "      <td>computers.notebook</td>\n",
              "      <td>lenovo</td>\n",
              "      <td>251.74</td>\n",
              "      <td>550050854</td>\n",
              "      <td>7c90fc70-0e80-4590-96f3-13c02c18c713</td>\n",
              "    </tr>\n",
              "    <tr>\n",
              "      <th>4</th>\n",
              "      <td>2019-10-01 00:00:04 UTC</td>\n",
              "      <td>view</td>\n",
              "      <td>1004237</td>\n",
              "      <td>2053013555631882655</td>\n",
              "      <td>electronics.smartphone</td>\n",
              "      <td>apple</td>\n",
              "      <td>1081.98</td>\n",
              "      <td>535871217</td>\n",
              "      <td>c6bd7419-2748-4c56-95b4-8cec9ff8b80d</td>\n",
              "    </tr>\n",
              "  </tbody>\n",
              "</table>\n",
              "</div>"
            ],
            "text/plain": [
              "                event_time  ...                          user_session\n",
              "0  2019-10-01 00:00:00 UTC  ...  72d76fde-8bb3-4e00-8c23-a032dfed738c\n",
              "1  2019-10-01 00:00:00 UTC  ...  9333dfbd-b87a-4708-9857-6336556b0fcc\n",
              "2  2019-10-01 00:00:01 UTC  ...  566511c2-e2e3-422b-b695-cf8e6e792ca8\n",
              "3  2019-10-01 00:00:01 UTC  ...  7c90fc70-0e80-4590-96f3-13c02c18c713\n",
              "4  2019-10-01 00:00:04 UTC  ...  c6bd7419-2748-4c56-95b4-8cec9ff8b80d\n",
              "\n",
              "[5 rows x 9 columns]"
            ]
          },
          "metadata": {
            "tags": []
          },
          "execution_count": 6
        }
      ]
    },
    {
      "cell_type": "code",
      "metadata": {
        "id": "wny4DJrSvZ_U",
        "outputId": "e8dfe0e6-8039-4b6a-9dde-799e0bb11631",
        "colab": {
          "base_uri": "https://localhost:8080/",
          "height": 34
        }
      },
      "source": [
        "df.shape"
      ],
      "execution_count": 7,
      "outputs": [
        {
          "output_type": "execute_result",
          "data": {
            "text/plain": [
              "(42448764, 9)"
            ]
          },
          "metadata": {
            "tags": []
          },
          "execution_count": 7
        }
      ]
    },
    {
      "cell_type": "code",
      "metadata": {
        "id": "m6y1iccxzI-E",
        "outputId": "089563d4-72b3-4559-a2cb-f58dcc3b7ee6",
        "colab": {
          "base_uri": "https://localhost:8080/",
          "height": 286
        }
      },
      "source": [
        "df.info()"
      ],
      "execution_count": 8,
      "outputs": [
        {
          "output_type": "stream",
          "text": [
            "<class 'pandas.core.frame.DataFrame'>\n",
            "RangeIndex: 42448764 entries, 0 to 42448763\n",
            "Data columns (total 9 columns):\n",
            " #   Column         Dtype   \n",
            "---  ------         -----   \n",
            " 0   event_time     object  \n",
            " 1   event_type     category\n",
            " 2   product_id     category\n",
            " 3   category_id    category\n",
            " 4   category_code  category\n",
            " 5   brand          category\n",
            " 6   price          float64 \n",
            " 7   user_id        category\n",
            " 8   user_session   category\n",
            "dtypes: category(7), float64(1), object(1)\n",
            "memory usage: 1.8+ GB\n"
          ],
          "name": "stdout"
        }
      ]
    },
    {
      "cell_type": "code",
      "metadata": {
        "id": "RZTcv7m_w2nX"
      },
      "source": [
        "import matplotlib.pyplot as plt"
      ],
      "execution_count": 9,
      "outputs": []
    },
    {
      "cell_type": "code",
      "metadata": {
        "id": "zHJtvxkh9kL7"
      },
      "source": [
        "import numpy as np"
      ],
      "execution_count": 11,
      "outputs": []
    },
    {
      "cell_type": "code",
      "metadata": {
        "id": "Vr9U7kuCvbxF"
      },
      "source": [
        "user_interactions = df['user_id'].value_counts()\n",
        "ui_std = np.std(user_interactions)\n",
        "\n",
        "# Ignoring outliers with extremely low or high number of interactions\n",
        "user_interactions = user_interactions[(-3*ui_std < user_interactions) & (3*ui_std > user_interactions)]"
      ],
      "execution_count": 12,
      "outputs": []
    },
    {
      "cell_type": "code",
      "metadata": {
        "id": "FwxY8jY3w947",
        "outputId": "a4f917ba-489e-45d8-b6f9-6f9a2f450102",
        "colab": {
          "base_uri": "https://localhost:8080/",
          "height": 281
        }
      },
      "source": [
        "plt.title('This histogram shows the distribution of the customers based on their total recorded activity, ignoring outliers')\n",
        "plt.hist(user_interactions, 100);"
      ],
      "execution_count": 13,
      "outputs": [
        {
          "output_type": "display_data",
          "data": {
            "image/png": "[encoded data removed]",
            "text/plain": [
              "<Figure size 432x288 with 1 Axes>"
            ]
          },
          "metadata": {
            "tags": [],
            "needs_background": "light"
          }
        }
      ]
    },
    {
      "cell_type": "code",
      "metadata": {
        "id": "4Yb5sz7dzbIm",
        "outputId": "416f196b-3715-42d1-986e-004caa5ea8cc",
        "colab": {
          "base_uri": "https://localhost:8080/",
          "height": 264
        }
      },
      "source": [
        "event_types = df['event_type'].value_counts()\n",
        "\n",
        "plt.title('The pie chart shows the distribution of the different event types')\n",
        "plt.pie(event_types, autopct='%1.1f%%', labels=['view', 'cart', 'purchase']);"
      ],
      "execution_count": 14,
      "outputs": [
        {
          "output_type": "display_data",
          "data": {
            "image/png": "[encoded data removed]",
            "text/plain": [
              "<Figure size 432x288 with 1 Axes>"
            ]
          },
          "metadata": {
            "tags": []
          }
        }
      ]
    },
    {
      "cell_type": "markdown",
      "metadata": {
        "id": "SH67VkfE2wVH"
      },
      "source": [
        "### Feature engineering\n",
        "\n",
        "Complex features were introduced from the initial dataset to capture nontrivial trends and implicit relationships hidden in the data. \n",
        "In this process, we considered several domain-specific approaches that might contribute to an improved understanding of customer characteristics.\n",
        "\n",
        "One of those was the RFM, which is a widely used method for analyzing customer value. The central idea behind this to derive the recency, frequency, and monetary value of individual customers. \n",
        "\n",
        "To apply this methodology in this specific use case, we derived these three features not only for actual purchases but for all four types of user interactions: view, cart, remove from cart, purchases. This might be relevant for customer segmentation prior to purchase events.\n",
        "\n",
        "It is important to note that there were no 'remove_from_cart' events present in the dataset from October of 2019.\n",
        "To handle the enormous amounts of data and thus reduce the time required for training, data was aggregated by users. To model temporal relationships, the metrics were also derived for individual user sessions. \n",
        "\n",
        "For increased accuracy, along with the regular statistical descriptors we used regression models to describe the data characteristics.\n",
        "Further feature selection steps with PCA and other techniques can be introduced to eliminate redundancy and correlated features. This, however, depends on the actual model choice and is therefore not possible in this phase."
      ]
    },
    {
      "cell_type": "code",
      "metadata": {
        "id": "IB9RHyFTX0dn"
      },
      "source": [
        "import datetime\n",
        "import numpy as np\n",
        "from enum import IntEnum\n",
        "\n",
        "def to_date(col):\n",
        "  \"\"\"Date and time of the events are recorded in the following format: 2020-10-25 22:52:42 UTC. The to_date function parses a DataFrame column from string to datetime.datetime object format.\"\"\"\n",
        "  return pd.to_datetime(col, format='%Y-%m-%d %H:%M:%S %Z')\n",
        "\n",
        "def recency(curr_time, prev_time):\n",
        "  \"\"\"Recency is in minutes. The recency function takes 2 datetime.datetime arguments and calculates the difference in minutes if prev_time is a valid time. Both inputs are datetime.datetime objects.\"\"\"\n",
        "  return (curr_time - prev_time).seconds / 60 if prev_time is not pd.NaT else naT()\n",
        "\n",
        "def naT():\n",
        "  \"\"\"Shorthand to creating NaT\"\"\"\n",
        "  return pd.Timedelta('nan')\n",
        "\n",
        "def regression_d(events, time_in_minutes, d):\n",
        "  \"\"\"Regression with polynomial of degree d of cumulated number of a DataFrame of event times in the given timeframe in minutes (at least 3 data points)\"\"\"\n",
        "  if len(events) < 3:\n",
        "    return [float('nan')] * (d + 1)\n",
        "  time_window = datetime.timedelta(seconds=time_in_minutes*60)\n",
        "  events.index = pd.to_datetime(events.index, unit='s')\n",
        "  cumsum = events.resample(time_window).count().cumsum()\n",
        "  values = pd.DataFrame([(i, cumsum[i]) for i in range(len(cumsum))])\n",
        "  x = list(values[0])\n",
        "  y = list(values[1])\n",
        "  try:\n",
        "    return np.polyfit(x, y, deg=d)\n",
        "  except ValueError:\n",
        "    return [float('nan')] * (d + 1)\n",
        "\n",
        "def describe(events, time_in_minutes):\n",
        "  \"\"\"Mean and std of a DataFrame of event times in the given timeframe in minutes (at least 3 data points).\"\"\"\n",
        "  if len(events) < 3:\n",
        "    return [float('nan')] * 2\n",
        "  time_window = datetime.timedelta(seconds=time_in_minutes*60)\n",
        "  events.index = pd.to_datetime(events.index, unit='s')\n",
        "  counts = events.resample(time_window).count()\n",
        "  return counts.mean(), counts.std()\n",
        "\n",
        "# Part of day enum definition\n",
        "class PartOfDay(IntEnum):\n",
        "  morning = 1\n",
        "  day = 2\n",
        "  evening = 3\n",
        "  night = 4\n",
        "\n",
        "def part_of_day(time):\n",
        "  \"\"\"4 major parts of the day are morning:6-12 day:12-18 evening:18-24 and night:0-6. The part_of_day function takes a datetime.datetime objects and determins the part of the day that time is in.\"\"\"\n",
        "  if 6 <= time.hour % 24 < 12:\n",
        "    pod = PartOfDay.morning\n",
        "  elif 12 <= time.hour % 24 < 18:\n",
        "    pod = PartOfDay.day\n",
        "  elif 18 <= time.hour % 24 < 24:\n",
        "    pod = PartOfDay.evening\n",
        "  elif 0 <= time.hour % 24 < 6:\n",
        "    pod = PartOfDay.night\n",
        "  else:\n",
        "    pod = float('nan')\n",
        "  return pod\n",
        "  \n",
        "def top_3_or_NaN(column):\n",
        "  \"\"\"Selects top 3 unique occurence of a DataFrame column. The top_3_or_NaN returns the top 3 object of the column and pads it with NaNs so the returned list is always of length 3\"\"\"\n",
        "  top = list(column.value_counts().head(3).keys()) + [float('nan')] * 3\n",
        "  return top[:3]"
      ],
      "execution_count": 5,
      "outputs": []
    },
    {
      "cell_type": "code",
      "metadata": {
        "id": "6SjQQTdHVeN3"
      },
      "source": [
        "def extract_features_from_users_events(user_id, user_sessions):\n",
        "  with open(f'/content/users.csv', 'a') as file:\n",
        "    prev_event_time = naT()\n",
        "    prev_cart_time = naT()\n",
        "    prev_purchase_time = naT()\n",
        "    absolute_first_event = naT()\n",
        "\n",
        "    user_for_hours = 0\n",
        "    user_view_num = 0\n",
        "    user_cart_num = 0\n",
        "    user_remove_num = 0\n",
        "    user_purchase_num = 0\n",
        "    user_purchase_monetary_value = 0\n",
        "\n",
        "    sessions_features = []\n",
        "\n",
        "    #for session_id, transactions in users_events.groupbusery('user_session', observed=True):\n",
        "    for transactions in user_sessions:\n",
        "      # get day of week for session\n",
        "      event_times = to_date(transactions[\"event_time\"])\n",
        "      first_event = event_times.iloc[0]\n",
        "      session_day_of_week = first_event.weekday()\n",
        "\n",
        "      # Get part of day for session start\n",
        "      session_part_of_day = part_of_day(first_event)\n",
        "\n",
        "      # get session recency in minutes\n",
        "      session_recency = recency(first_event, prev_event_time)\n",
        "      prev_event_time = event_times.iloc[-1]\n",
        "\n",
        "      # get session duration in minutes\n",
        "      session_duration = recency(prev_event_time, first_event)\n",
        "\n",
        "      # get absolute user time in days\n",
        "      if absolute_first_event is pd.NaT:\n",
        "        absolute_first_event = first_event\n",
        "      user_for_hours = (prev_event_time - absolute_first_event).seconds / 3600\n",
        "\n",
        "      # get events for specific event typespre\n",
        "      views = transactions[transactions[\"event_type\"] == \"view\"]\n",
        "      carts = transactions[transactions[\"event_type\"] == \"cart\"]\n",
        "      removes = transactions[transactions[\"event_type\"] == \"remove_from_cart\"]\n",
        "      purchases = transactions[transactions[\"event_type\"] == \"purchase\"]\n",
        "\n",
        "      # get numbers of events by types\n",
        "      session_view_num = len(views)\n",
        "      session_cart_num = len(carts)\n",
        "      session_remove_num = len(removes)\n",
        "      session_purchase_num = len(purchases)\n",
        "\n",
        "      # add session specific values to user values\n",
        "      user_view_num += session_view_num\n",
        "      user_cart_num += session_cart_num\n",
        "      user_remove_num += session_remove_num\n",
        "      user_purchase_num += session_purchase_num\n",
        "\n",
        "      # get monetary value of events by types\n",
        "      session_view_monetary_value = sum(views[\"price\"])\n",
        "      session_cart_monetary_value = sum(carts[\"price\"])\n",
        "      session_remove_monetary_value = sum(removes[\"price\"])\n",
        "      session_purchase_monetary_value = sum(purchases[\"price\"])\n",
        "\n",
        "      user_purchase_monetary_value += session_purchase_monetary_value\n",
        "\n",
        "      # get cart and purchase recency\n",
        "      session_cart_recency = recency(first_event, prev_cart_time)\n",
        "      if not carts.empty:\n",
        "        last_cart_time = list(carts.tail(1)[\"event_time\"])[0]\n",
        "        prev_cart_time = to_date(last_cart_time)\n",
        "\n",
        "      session_purchase_recency = recency(first_event, prev_purchase_time)\n",
        "      if not purchases.empty:\n",
        "        last_purchase_time = list(purchases.tail(1)[\"event_time\"])[0]\n",
        "        prev_purchase_time = to_date(last_purchase_time)\n",
        "\n",
        "      # get top 3 brands and product categories\n",
        "      session_top_1_brand, session_top_2_brand, session_top_3_brand = top_3_or_NaN(transactions[\"brand\"])\n",
        "      session_top_1_category, session_top_2_category, session_top_3_category = top_3_or_NaN(transactions[\"category_id\"])\n",
        "\n",
        "      # get 1st, 2nd, 3rd polynomial regression of event times by types\n",
        "      time_minutes = 5\n",
        "\n",
        "      # View times\n",
        "      session_view_1d_ax, session_view_1d_b = regression_d(views[\"event_time\"], time_minutes, 1)\n",
        "      session_view_2d_ax2, session_view_2d_bx, session_view_2d_c = regression_d(views[\"event_time\"], time_minutes, 2)\n",
        "      session_view_3d_ax3, session_view_3d_bx2, session_view_3d_cx, session_view_3d_d = regression_d(views[\"event_time\"], time_minutes, 3)\n",
        "\n",
        "      # Cart times\n",
        "      session_cart_1d_ax, session_cart_1d_b = regression_d(carts[\"event_time\"], time_minutes, 1)\n",
        "      session_cart_2d_ax2, session_cart_2d_bx, session_cart_2d_c = regression_d(carts[\"event_time\"], time_minutes, 2)\n",
        "      session_cart_3d_ax3, session_cart_3d_bx2, session_cart_3d_cx, session_cart_3d_d = regression_d(carts[\"event_time\"], time_minutes, 3)\n",
        "\n",
        "      # Purchase times\n",
        "      session_purchase_1d_ax, session_purchase_1d_b = regression_d(purchases[\"event_time\"], time_minutes, 1)\n",
        "      session_purchase_2d_ax2, session_purchase_2d_bx, session_purchase_2d_c = regression_d(purchases[\"event_time\"], time_minutes, 2)\n",
        "      session_purchase_3d_ax3, session_purchase_3d_bx2, session_purchase_3d_cx, session_purchase_3d_d = regression_d(purchases[\"event_time\"], time_minutes, 3)\n",
        "\n",
        "      # Event times together\n",
        "      session_event_1d_ax, session_event_1d_b = regression_d(event_times, time_minutes, 1)\n",
        "      session_event_2d_ax2, session_event_2d_bx, session_event_2d_c = regression_d(event_times, time_minutes, 2)\n",
        "      session_event_3d_ax3, session_event_3d_bx2, session_event_3d_cx, session_event_3d_d = regression_d(event_times, time_minutes, 3)\n",
        "\n",
        "      # Get basic descriptors of events by type\n",
        "      time_minutes = 1\n",
        "      session_view_mean, session_view_std = describe(views[\"event_time\"], time_minutes)\n",
        "      session_cart_mean, session_cart_std = describe(carts[\"event_time\"], time_minutes)\n",
        "      session_purchase_mean, session_purchase_std = describe(purchases[\"event_time\"], time_minutes)\n",
        "      session_remove_mean, session_remove_std = describe(removes[\"event_time\"], time_minutes)\n",
        "\n",
        "      features = {\n",
        "        \"first_event\": first_event, # Time of the first event of the session\n",
        "        \"prev_event_time\": prev_event_time, # Time of the last event of the session\n",
        "        \"session_duration\": session_duration, # Elapsed time during the session in minutes\n",
        "        \"session_day_of_week\": session_day_of_week, # On which day of the week did the session take place starting from 0: Monday\n",
        "        \"session_part_of_day\": int(session_part_of_day), # On which part of the day did the session take place\n",
        "        \"session_recency\": session_recency, # When was the last session in minutes\n",
        "        \"session_view_num\": session_view_num, # How many view events happened during the session\n",
        "        \"session_cart_num\": session_cart_num, # How many cart events happened during the session\n",
        "        \"session_remove_num\": session_remove_num, # How many remove_from_cart events happened during the session\n",
        "        \"session_purchase_num\": session_purchase_num, # How many purchase events happened during the session\n",
        "        \"session_view_monetary_value\": session_view_monetary_value, # Sum of the monetary value of the view events happened during the session\n",
        "        \"session_cart_monetary_value\": session_cart_monetary_value, # Sum of the monetary value of the cart events happened during the session\n",
        "        \"session_remove_monetary_value\": session_remove_monetary_value, # Sum of the monetary value of the remove_from_cart events happened during the session\n",
        "        \"session_purchase_monetary_value\": session_purchase_monetary_value, # Sum of the monetary value of the purchase events happened during the session\n",
        "        \"session_cart_recency\": session_cart_recency, # When has the last cart event occured in minutes\n",
        "        \"session_purchase_recency\": session_purchase_recency, # When has the last purchase event occured in minutes\n",
        "        \"session_top_1_brand\": session_top_1_brand, # Most occuring brand in the session events\n",
        "        \"session_top_2_brand\": session_top_2_brand, # 2nd most occuring brand in the session events\n",
        "        \"session_top_3_brand\": session_top_3_brand, # 3rd most occuring brand in the session events\n",
        "        \"session_top_1_category\": session_top_1_category, # Most occuring category in the session events\n",
        "        \"session_top_2_category\": session_top_2_category, # 2nd most occuring category in the session events\n",
        "        \"session_top_3_category\": session_top_3_category, # 3rd most occuring category in the session events\n",
        "        \"session_view_1d_ax\": session_view_1d_ax, # Coefficients of the polynomial to fit the view, cart, purchase and remove_from_car events based on regression with polynomial of degree d\n",
        "        \"session_view_1d_b\": session_view_1d_b,\n",
        "        \"session_view_2d_ax2\": session_view_2d_ax2,\n",
        "        \"session_view_2d_bx\": session_view_2d_bx,\n",
        "        \"session_view_2d_c\": session_view_2d_c,\n",
        "        \"session_view_3d_ax3\": session_view_3d_ax3,\n",
        "        \"session_view_3d_bx2\": session_view_3d_bx2,\n",
        "        \"session_view_3d_cx\": session_view_3d_cx,\n",
        "        \"session_view_3d_d\": session_view_3d_d,\n",
        "        \"session_cart_1d_ax\": session_cart_1d_ax,\n",
        "        \"session_cart_1d_b\": session_cart_1d_b,\n",
        "        \"session_cart_2d_ax2\": session_cart_2d_ax2,\n",
        "        \"session_cart_2d_bx\": session_cart_2d_bx,\n",
        "        \"session_cart_2d_c\": session_cart_2d_c,\n",
        "        \"session_cart_3d_ax3\": session_cart_3d_ax3,\n",
        "        \"session_cart_3d_bx2\": session_cart_3d_bx2,\n",
        "        \"session_cart_3d_cx\": session_cart_3d_cx,\n",
        "        \"session_cart_3d_d\": session_cart_3d_d,\n",
        "        \"session_purchase_1d_ax\": session_purchase_1d_ax,\n",
        "        \"session_purchase_1d_b\": session_purchase_1d_b,\n",
        "        \"session_purchase_2d_ax2\": session_purchase_2d_ax2,\n",
        "        \"session_purchase_2d_bx\": session_purchase_2d_bx,\n",
        "        \"session_purchase_2d_c\": session_purchase_2d_c,\n",
        "        \"session_purchase_3d_ax3\": session_purchase_3d_ax3,\n",
        "        \"session_purchase_3d_bx2\": session_purchase_3d_bx2,\n",
        "        \"session_purchase_3d_cx\": session_purchase_3d_cx,\n",
        "        \"session_purchase_3d_d\": session_purchase_3d_d,\n",
        "        \"session_event_1d_ax\": session_event_1d_ax, # Coefficients of the polynomial to fit all events occured based on regression with polynomial of degree d\n",
        "        \"session_event_1d_b\": session_event_1d_b,\n",
        "        \"session_event_2d_ax2\": session_event_2d_ax2,\n",
        "        \"session_event_2d_bx\": session_event_2d_bx,\n",
        "        \"session_event_2d_c\": session_event_2d_c,\n",
        "        \"session_event_3d_ax3\": session_event_3d_ax3,\n",
        "        \"session_event_3d_bx2\": session_event_3d_bx2,\n",
        "        \"session_event_3d_cx\": session_event_3d_cx,\n",
        "        \"session_event_3d_d\": session_event_3d_d,\n",
        "        \"session_view_mean\": session_view_mean, # Basic descriptors of view, cart, purchase and remove_from_car events\n",
        "        \"session_view_std\": session_view_std,\n",
        "        \"session_cart_mean\": session_cart_mean,\n",
        "        \"session_cart_std\": session_cart_std,\n",
        "        \"session_purchase_mean\": session_purchase_mean,\n",
        "        \"session_purchase_std\": session_purchase_std,\n",
        "        \"session_remove_mean\": session_remove_mean,\n",
        "        \"session_remove_std\": session_remove_std\n",
        "      }\n",
        "\n",
        "      sessions_features.append(features.values())\n",
        "\n",
        "    user_view_frequency = (user_view_num / user_for_hours) if user_for_hours != 0 else float('nan')\n",
        "    user_cart_frequency = (user_cart_num / user_for_hours) if user_for_hours != 0 else float('nan')\n",
        "    user_remove_frequency = (user_remove_num / user_for_hours) if user_for_hours != 0 else float('nan')\n",
        "    user_purchase_frequency = (user_purchase_num / user_for_hours) if user_for_hours != 0 else float('nan')\n",
        "      \n",
        "    user_features = [user_for_hours, \n",
        "                     user_purchase_monetary_value, \n",
        "                     user_view_num,\n",
        "                     user_cart_num,\n",
        "                     user_remove_num,\n",
        "                     user_purchase_num,\n",
        "                     user_view_frequency, \n",
        "                     user_cart_frequency, \n",
        "                     user_remove_frequency, \n",
        "                     user_purchase_frequency]\n",
        "\n",
        "    file.write(','.join(\n",
        "        [str(v) for v in user_features] + \n",
        "        [str(item) for sublist in sessions_features for item in sublist]) + '\\n')\n",
        "    "
      ],
      "execution_count": 14,
      "outputs": []
    },
    {
      "cell_type": "code",
      "metadata": {
        "id": "OAx3G6_aVeT_"
      },
      "source": [
        "# Set this to True for a faster run using a fraction of the dataset\n",
        "dummy_run = False\n",
        "\n",
        "if dummy_run:\n",
        "  grouped = df.head(300000).groupby(['user_id', 'user_session'], observed=True)\n",
        "else:\n",
        "  grouped = df.groupby(['user_id', 'user_session'], observed=True)"
      ],
      "execution_count": null,
      "outputs": []
    },
    {
      "cell_type": "code",
      "metadata": {
        "id": "u5agzsJgNs-y"
      },
      "source": [
        "first = True\n",
        "current_user = ''\n",
        "user_sessions = []\n",
        "processed_users = 0\n",
        "\n",
        "for (user_id, session_id), session in grouped:\n",
        "  if first:\n",
        "    first = False\n",
        "    current_user = user_id\n",
        "\n",
        "  if current_user == user_id:\n",
        "    user_sessions.append(session)\n",
        "  else:\n",
        "    extract_features_from_users_events(user_id, user_sessions)\n",
        "    processed_users += 1\n",
        "\n",
        "    print('processed users:', processed_users, '\\tuser:', user_id, '\\tnumber of sessions:', len(user_sessions))\n",
        "\n",
        "    current_user = user_id \n",
        "    user_sessions = [session]"
      ],
      "execution_count": null,
      "outputs": []
    },
    {
      "cell_type": "code",
      "metadata": {
        "id": "3ZC3GMT71juB",
        "outputId": "6d1f41c1-9481-4410-d9d4-f948b9fe54fe",
        "colab": {
          "base_uri": "https://localhost:8080/",
          "height": 34
        }
      },
      "source": [
        "from google.colab import drive\n",
        "drive.mount('/content/drive')"
      ],
      "execution_count": 9,
      "outputs": [
        {
          "output_type": "stream",
          "text": [
            "Mounted at /content/drive\n"
          ],
          "name": "stdout"
        }
      ]
    },
    {
      "cell_type": "code",
      "metadata": {
        "id": "WTvsjv75161G"
      },
      "source": [
        "!cp users.csv \"/content/drive/My Drive\""
      ],
      "execution_count": 10,
      "outputs": []
    }
  ]
}